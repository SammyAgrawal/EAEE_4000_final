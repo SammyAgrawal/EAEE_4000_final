{
 "cells": [
  {
   "cell_type": "code",
   "execution_count": 1,
   "id": "a4c21977",
   "metadata": {},
   "outputs": [
    {
     "name": "stderr",
     "output_type": "stream",
     "text": [
      "/Users/samart/opt/anaconda3/envs/MLforEE/lib/python3.10/site-packages/tqdm/auto.py:22: TqdmWarning: IProgress not found. Please update jupyter and ipywidgets. See https://ipywidgets.readthedocs.io/en/stable/user_install.html\n",
      "  from .autonotebook import tqdm as notebook_tqdm\n"
     ]
    }
   ],
   "source": [
    "import gym\n",
    "from stable_baselines3.common.logger import configure\n",
    "import stable_baselines3\n",
    "from stable_baselines3 import PPO, DDPG, A2C\n",
    "\n",
    "import torch\n",
    "import numpy as np\n",
    "import pandas as pd\n",
    "import matplotlib.pyplot as plt\n",
    "import xarray\n",
    "\n",
    "import random\n",
    "import math\n",
    "from functools import partial\n",
    "from scipy.stats import gamma\n",
    "\n",
    "import json\n",
    "import os\n",
    "import sys\n",
    "import time\n",
    "\n",
    "import fair\n",
    "from fair.io import read_properties\n",
    "from fair.interface import fill, initialise"
   ]
  },
  {
   "cell_type": "code",
   "execution_count": 2,
   "id": "e5a130c7",
   "metadata": {},
   "outputs": [],
   "source": [
    "scenario = 'ssp245'\n",
    "current_year = 2035\n",
    "end_year = 2105\n",
    "\n",
    "def ssp(scenario, category='emissions'):\n",
    "    assert (category=='emissions' or category=='concentrations')\n",
    "    path = '../data/fair_ssp_scenarios/' + scenario + \"_\" + category + \".csv\"\n",
    "    ssp = pd.read_csv(path).drop(['Unnamed: 0'], axis=1)\n",
    "    ssp['Year'] = ssp['Year'].astype(np.int16)\n",
    "    return(ssp)\n",
    "ssp_df = ssp(scenario)\n",
    "size = ssp_df.shape[0]\n",
    "\n",
    "data_path = '../data/example_github_data/'\n",
    "volcano_df = pd.read_csv(os.path.join(data_path, 'volcano_forcing_data.csv'), index_col='year').drop(['Unnamed: 0'], axis=1)\n",
    "climate_df = pd.read_csv(os.path.join(data_path, 'climate_models_data.csv')).drop(['Unnamed: 0'], axis=1)\n",
    "\n",
    "# cost model for CO2 and Sulfur Emissions\n",
    "beta = 1.03 # estimated GDP growth rate over the year\n",
    "GtC_reduce_cost = 6e11\n",
    "cost_per_MT = 1000 * 1e6 # cost per ton * 10^6 tons / Mt\n",
    "airplane_construction_cost = 1e8 # construction of additional airplane\n",
    "cost_per_year_deployed = 12 * 8e5 # annual lease rate = 12 * monthly\n",
    "payload_per_year_tons = 20 * 5  * 330 # tons/run * runs / day * operating days/year\n",
    "annual_delivery_capacity = payload_per_year_tons / 1e6 # how much sulfur a single plane can emit in a year\n",
    "\n",
    "Y = pd.Series(data=np.zeros(size), index=ssp_df['Year']) #global GDP\n",
    "Y_cost = pd.Series(data=np.zeros(size), index=ssp_df['Year']) #cost of climate change\n",
    "\n",
    "Y.loc[:current_year-1] = 9e13 #USD/a\n",
    "Y_cost.loc[:current_year-1] = 100*1e9 #USD/a\n",
    "\n",
    "Y[current_year] = 9.2e13 #USD/a\n",
    "Y_cost[current_year] = 100*1e9 #USD/a\n",
    "\n",
    "# basic model\n",
    "species, properties = read_properties()\n",
    "averages = climate_df.drop_duplicates(subset=['model'], keep='first').mean(numeric_only=True)"
   ]
  },
  {
   "cell_type": "code",
   "execution_count": 3,
   "id": "ed24ed47",
   "metadata": {},
   "outputs": [],
   "source": [
    "def setup_model(end_year=end_year, scenario='ssp245', timesteps_per_year=1):\n",
    "    \n",
    "    # consider fiddling with sulfur properties since forcing seems weak and f.forcing does not include sulfur\n",
    "    \n",
    "    f = fair.FAIR(ghg_method= 'meinshausen2020', ch4_method='thornhill2021')\n",
    "    f.define_time(1750, end_year, 1/timesteps_per_year) #timepoints, timebounds\n",
    "    f.define_scenarios([scenario])\n",
    "    f.define_configs(['default', 'intervention'])\n",
    "    f.define_species(species, properties)\n",
    "    f.timesteps_per_year = timesteps_per_year\n",
    "    f.allocate()\n",
    "\n",
    "    # fill species configs using default values\n",
    "    f.fill_species_configs()\n",
    "    fill(f.species_configs['unperturbed_lifetime'], 10.8537568, specie='CH4')\n",
    "    fill(f.species_configs['baseline_emissions'], 19.01978312, specie='CH4')\n",
    "    fill(f.species_configs['baseline_emissions'], 0.08602230754, specie='N2O')\n",
    "\n",
    "    # Use climate_df for climate configs. take the average of the first runs of all models to obtain climate params\n",
    "    fill(f.climate_configs['ocean_heat_capacity'], averages.loc['C1':'C3'].values)\n",
    "    fill(f.climate_configs['ocean_heat_transfer'], averages.loc['kappa1':'kappa3'].values)\n",
    "    fill(f.climate_configs['deep_ocean_efficacy'], averages['epsilon'])\n",
    "    fill(f.climate_configs['gamma_autocorrelation'], averages['gamma'])\n",
    "    fill(f.climate_configs['sigma_eta'], averages['sigma_eta'])\n",
    "    fill(f.climate_configs['sigma_xi'], averages['sigma_xi'])\n",
    "    fill(f.climate_configs['stochastic_run'], True)\n",
    "    fill(f.climate_configs['use_seed'], True)\n",
    "    fill(f.climate_configs['seed'], 1355763)\n",
    "\n",
    "    f.fill_from_rcmip()\n",
    "\n",
    "    volcanic_forcing = np.zeros(f.timebounds.size)\n",
    "    volcanic_forcing[:timesteps_per_year*270] = volcano_df.iloc[::int(12/timesteps_per_year)].squeeze().values\n",
    "    fill(f.forcing, volcanic_forcing[:, None, None], specie='Volcanic')\n",
    "\n",
    "    initialise(f.concentration, f.species_configs['baseline_concentration'])\n",
    "    initialise(f.forcing, 0)\n",
    "    initialise(f.temperature, 0)\n",
    "    initialise(f.cumulative_emissions, 0)\n",
    "    initialise(f.airborne_emissions, 0)\n",
    "    \n",
    "    return(f)\n",
    "ref_model = setup_model(end_year, scenario, 1)\n",
    "def model_reset(end_year=end_year, timesteps_per_year=1): # faster than setup_model() because that function is too slow in practice\n",
    "    g = fair.FAIR(ghg_method= 'meinshausen2020', ch4_method='thornhill2021')\n",
    "    g.define_time(1750, end_year, 1) #timepoints, timebounds\n",
    "    g.define_scenarios([scenario])\n",
    "    g.define_configs(['default', 'intervention'])\n",
    "    g.define_species(species, properties)\n",
    "    g.allocate()\n",
    "    \n",
    "    g.timesteps_per_year = timesteps_per_year\n",
    "    g.species_configs = ref_model.species_configs.copy(deep=True)\n",
    "    g.climate_configs = ref_model.climate_configs.copy(deep=True)\n",
    "    g.emissions = ref_model.emissions.copy(deep=True)\n",
    "    g.concentration = ref_model.concentration.copy(deep=True)\n",
    "    g.forcing = ref_model.forcing.copy(deep=True)\n",
    "    g.forcing_sum = ref_model.forcing_sum.copy(deep=True)\n",
    "    g.temperature = ref_model.temperature.copy(deep=True)\n",
    "    g.cumulative_emissions = ref_model.cumulative_emissions.copy(deep=True)\n",
    "    g.airborne_emissions = ref_model.airborne_emissions.copy(deep=True)\n",
    "    g.airborne_fraction = ref_model.airborne_fraction.copy(deep=True)\n",
    "    g.ocean_heat_content_change = ref_model.ocean_heat_content_change.copy(deep=True)\n",
    "    g.stochastic_forcing = ref_model.stochastic_forcing.copy(deep=True)\n",
    "    g.toa_imbalance = ref_model.toa_imbalance.copy(deep=True)\n",
    "    \n",
    "    return(g)"
   ]
  },
  {
   "cell_type": "code",
   "execution_count": 4,
   "id": "0919ecdf",
   "metadata": {},
   "outputs": [],
   "source": [
    "def carbon_cost_GDP_reward(old_state, state, year, GDP, GDP_cost, cur_fease):\n",
    "    cur_temp = state[0]\n",
    "    beta = 100 if cur_fease < 0 else 1\n",
    "    reward = beta * cur_fease\n",
    "    alpha = 1000 if cur_temp > 2 else 200\n",
    "    reward += alpha * (2-cur_temp)  \n",
    "    reward += GDP/1e12\n",
    "    reward -= GDP_cost/1e11\n",
    "    \n",
    "    if(reward>10000):\n",
    "        print(\"From inside reward function, reward: \", reward)\n",
    "        print('fease', cur_fease, \"temp: \", alpha * (2-cur_temp), 'GDP: ', GDP/1e12)\n",
    "        \n",
    "    return reward"
   ]
  },
  {
   "cell_type": "code",
   "execution_count": 49,
   "id": "dfe01b81",
   "metadata": {},
   "outputs": [],
   "source": [
    "args = {\n",
    "    'name': 'Fred',\n",
    "    'directory': 'Experiment_3/',\n",
    "    'max_carbon': 1,\n",
    "    'max_sulfur': 60,\n",
    "    'reward_mode': 'carbon_cost_GDP_reward',\n",
    "    'scenario': 'ssp245',\n",
    "    'start_year' : 2023,\n",
    "    'end_year': 2105,\n",
    "    'algorithm': 'ppo',\n",
    "    'learning_rate': 0.024,\n",
    "    'gamma': 0.85,\n",
    "    'device': 'cpu',\n",
    "    'iterations': 100,\n",
    "    'n_steps': 4,\n",
    "    'verbose': 2,\n",
    "    'log_freq': 100\n",
    "}"
   ]
  },
  {
   "cell_type": "code",
   "execution_count": 50,
   "id": "85283445",
   "metadata": {},
   "outputs": [],
   "source": [
    "class Simulator(gym.Env):\n",
    "    \n",
    "    def __init__(self, args, aero_start_year):\n",
    "        \n",
    "        super(Simulator, self).__init__()\n",
    "        \n",
    "        # action space for the environment, normalized for better RL training\n",
    "        # the amount to increase or decrease emissions by\n",
    "        self.action_space = gym.spaces.Box(\n",
    "            low = np.array([-1, -1]).astype(np.float32),\n",
    "            high = np.array([1, 1]).astype(np.float32),\n",
    "        ) \n",
    "        self.model = model_reset()\n",
    "        \n",
    "        # state space, year [temp, co2_emit, sulfur_emit, co2_conc, forcing]\n",
    "        \"\"\"self.observation_space = gym.spaces.Box(\n",
    "            low=np.array([-4, -200, -100, 0, -20.0]).astype(np.float32),\n",
    "            high=np.array([5, 200, 1000, 5000, 20.0]).astype(np.float32),\n",
    "        )\"\"\"\n",
    "        \n",
    "        self.obs_scalars = np.array([6, 200, 200+args['max_sulfur'], 2000, 20], dtype=np.float32)\n",
    "        \n",
    "        self.observation_space = gym.spaces.Box(\n",
    "            low=np.array([-1, -1, -1, -1, -1]).astype(np.float32),\n",
    "            high=np.array([1,1,1,1,1]).astype(np.float32),\n",
    "        )\n",
    "        \n",
    "        self.reward_func = eval(args['reward_mode']) # specify the reward function to use\n",
    "        self.state = None\n",
    "        self.ssp_370 = ssp('ssp370') #for feasibility testing later\n",
    "        self.max_carbon = args['max_carbon']\n",
    "        self.max_aerosol = args['max_sulfur']\n",
    "        \n",
    "        # setup time bounding\n",
    "        self.start_year = args['start_year']\n",
    "        self.end_year = args['end_year']\n",
    "        self.time_increment = self.model.timesteps_per_year # gonna be 1\n",
    "        \n",
    "        self.aerosol_start = aero_start_year\n",
    "        \n",
    "        # used for aerosol cost\n",
    "        self.airplanes_manufactured = 0\n",
    "    \n",
    "        \n",
    "    def reset(self):\n",
    "        \n",
    "        ## RESET ECONOMIC VARIABLES\n",
    "        \n",
    "        Y = pd.Series(data=np.zeros(size), index=ssp_df['Year']) #global GDP\n",
    "        Y_cost = pd.Series(data=np.zeros(size), index=ssp_df['Year']) #cost of climate change\n",
    "        S = pd.Series(data=np.zeros(size), index=ssp_df['Year']) #renewable knowledge stock\n",
    "\n",
    "        S.loc[:current_year-1] = 5e11 #GJ\n",
    "        Y.loc[:current_year-1] = 9e13 #USD/a\n",
    "        Y_cost.loc[:current_year-1] = 100*1e9 #USD/a\n",
    "\n",
    "        S[current_year] = 5e11 #GJ\n",
    "        Y[current_year] = 9.2e13 #USD/a\n",
    "        Y_cost[current_year] = 100*1e9 #USD/a\n",
    "        \n",
    "        ##             ##\n",
    "        \n",
    "        \n",
    "        ## reset- faster than calling setup_model() again\n",
    "        self.model = model_reset()\n",
    "        self.t = self.start_year - 1\n",
    "        \n",
    "        self.update_state(ref_model.emissions)\n",
    "        \n",
    "        return(self.state[self.model.configs[1]] / self.obs_scalars)                           \n",
    "    \n",
    "    \n",
    "    def update_state(self, emissions):\n",
    "        \n",
    "        self.forward_func(emissions)   \n",
    "        # state is [year, temp, co2_emit, sulfur_emit, co2_conc, forcing]   \n",
    "        # state refers to at the conclusion of year X, all variables. At end, we are at beginning of year X+1\n",
    "        self.state = {\n",
    "            'Year' : self.t,\n",
    "            self.model.configs[0] : np.array([\n",
    "                self.model.temperature.loc[self.t, self.model.scenarios[0], self.model.configs[0], 0].item(),\n",
    "                self.model.emissions.loc[self.t - self.time_increment/2, self.model.scenarios[0], self.model.configs[0], :][:2].sum().item(),\n",
    "                self.model.emissions.loc[self.t - self.time_increment/2, self.model.scenarios[0], self.model.configs[0], 'Sulfur'].item(),\n",
    "                self.model.concentration.loc[self.t, self.model.scenarios[0], self.model.configs[0], 'CO2'].item(),\n",
    "                self.model.forcing_sum.loc[self.t, self.model.scenarios[0], self.model.configs[0]].item()                \n",
    "            ], dtype=np.float32),\n",
    "            self.model.configs[1] : np.array([ \n",
    "                self.model.temperature.loc[self.t, self.model.scenarios[0], self.model.configs[1], 0].item(),\n",
    "                self.model.emissions.loc[self.t - self.time_increment/2, self.model.scenarios[0], self.model.configs[1], :][:2].sum().item(),\n",
    "                self.model.emissions.loc[self.t - self.time_increment/2, self.model.scenarios[0], self.model.configs[1], 'Sulfur'].item(),\n",
    "                self.model.concentration.loc[self.t, self.model.scenarios[0], self.model.configs[1], 'CO2'].item(),\n",
    "                self.model.forcing_sum.loc[self.t, self.model.scenarios[0], self.model.configs[1]].item()\n",
    "            ], dtype=np.float32)\n",
    "        }\n",
    "                               \n",
    "        self.t += self.time_increment\n",
    "    \n",
    "    def access_state(self):\n",
    "        return(self.state)\n",
    "    \n",
    "    def forward_func(self, emissions):\n",
    "\n",
    "        self.model = model_reset()\n",
    "        self.model.emissions = emissions.copy(deep=True)\n",
    "        try:\n",
    "            self.model.run(progress=False)\n",
    "        except ValueError:\n",
    "            print(\"Valueerror in forward func\")\n",
    "            print(\"emissions shape: \", self.model.emissions.shape)\n",
    "            print(\"expected shape: \", model_reset().emissions.shape)\n",
    "    \n",
    "    def aerosol_cost(self, emit):\n",
    "        \n",
    "        # 3 factors: operating cost, construction cost, sulfur cost\n",
    "        num_airplanes = emit / annual_delivery_capacity # how many airplaces deployed\n",
    "        operational_cost = num_airplanes * cost_per_year_deployed\n",
    "        \n",
    "        num_new_airplaces = num_airplanes - self.airplanes_manufactured # number of new planes needed to service additional emissions\n",
    "        construction_cost = max(num_new_airplaces, 0) * airplane_construction_cost # cost of constructing new plances\n",
    "        \n",
    "        sulfur_cost = emit * cost_per_MT\n",
    "        \n",
    "        self.airplanes_manufactured = max(int(num_airplanes), int(self.airplanes_manufactured))\n",
    "        \n",
    "        return(sulfur_cost + construction_cost + operational_cost)\n",
    "        \n",
    "    \n",
    "    def render(self, mode=\"human\"):\n",
    "        if(self.state):\n",
    "            print(f\"Current Year: {self.state['Year']}\")\n",
    "            print(\"Without intervention:\")\n",
    "            config = self.model.configs[0]\n",
    "            # print the state [year, temp, co2_emit, sulfur_emit, co2_conc, forcing]\n",
    "            print(f'    Temperature anomaly: {self.state[config][0]}ºC')\n",
    "            print(f'    CO2 emissions: {self.state[config][1]} GtC')\n",
    "            print(f'    Sulfur emissions: {self.state[config][2]} MtS')\n",
    "            print(f'    CO2 concentration: {self.state[config][3]} ppm')\n",
    "            print(f'    Radiative forcing: {self.state[config][4]} W/m2')\n",
    "            \n",
    "            print(\"\\nWith intervention:\")\n",
    "            config = self.model.configs[1]\n",
    "            # print the state [year, temp, co2_emit, sulfur_emit, co2_conc, forcing]\n",
    "            print(f'    Temperature anomaly: {self.state[config][0]}ºC')\n",
    "            print(f'    CO2 emissions: {self.state[config][1]} GtC')\n",
    "            print(f'    Sulfur emissions: {self.state[config][2]} MtS')\n",
    "            print(f'    CO2 concentration: {self.state[config][3]} ppm')\n",
    "            print(f'    Radiative forcing: {self.state[config][4]} W/m2')\n",
    "        else:\n",
    "            print(\"No state initialized; call reset. \")\n",
    "    \n",
    "    \n",
    "    def step(self, action):\n",
    "        \n",
    "        #should not call step without calling reset()\n",
    "        if(not self.state): #has not been initialized\n",
    "            self.reset()\n",
    "    \n",
    "        config = self.model.configs[1] #intervention\n",
    "        old_state = self.state[config] #save for reward function\n",
    "        year = self.t\n",
    "        done = False\n",
    "        \n",
    "        geoengineering = year >= self.aerosol_start # boolean indicator whether allowed to emit sulfur or not\n",
    "        \n",
    "        \n",
    "        # change emissions by action[0] from the previous year\n",
    "        # emit action amount additional sulfur within same year\n",
    "        new_emissions = self.model.emissions\n",
    "        emit_C = self.max_carbon * action[0] + new_emissions.loc[self.t-0.5, self.model.scenarios[0], config, 'CO2 FFI'].item()\n",
    "        new_emissions.loc[self.t+0.5, self.model.scenarios[0], config, 'CO2 FFI'] = max(emit_C, 0)\n",
    "        if geoengineering:\n",
    "            emit_S = new_emissions.loc[self.t+0.5, self.model.scenarios[0], config, 'Sulfur'] + self.max_aerosol*abs(action[1])\n",
    "            new_emissions.loc[self.t+0.5, self.model.scenarios[0], config, 'Sulfur'] = emit_S\n",
    "\n",
    "        \n",
    "        # run model simulation with new values\n",
    "        #state is [year, temp, emit_c, emit_s, conc_c, forcing]\n",
    "        self.update_state(new_emissions) #CAUTION! self.t has now changed\n",
    "        \n",
    "        #Implementation of S, Y and Y_cost\n",
    "        Y[year] = beta * Y[year-1] # assume constant GDP growth of beta percent\n",
    "        \n",
    "        emission_cost = GtC_reduce_cost * (old_state[1] - self.state[config][1])\n",
    "        Y_cost[year] = (10/5 * self.state[config][0] - 2)/100 * Y[year] + self.aerosol_cost(action[1]) + emission_cost\n",
    "        \n",
    "        #gamma = 1 / ( 1+(S[year-1]/sigma)**rho )\n",
    "        #S[year] = S[year-1] + ( (1-gamma)*Y[year-1]/epsilon - S[year-1]/tau_S ) # not used in this implementation\n",
    "        \n",
    "        # fail if temperature error\n",
    "        if math.isnan(self.state[config][0]):\n",
    "            done = True\n",
    "        \n",
    "        \n",
    "        cur_fease = emit_C - self.ssp_370[self.ssp_370['Year']==year]['CO2-fossil (GtC/yr)'].squeeze() # positive if emitted more than default, otherwise negative\n",
    "        Y[year] = Y[year] - Y_cost[year] # update GDP to reflect cost of climate change\n",
    "        \n",
    "        #compute the reward\n",
    "        reward = self.reward_func(old_state, self.state[config], year, Y[year], Y_cost[year], cur_fease)\n",
    "        \n",
    "\n",
    "        # end the trial once 2100 is reached or if temp anomaly above 4 degrees\n",
    "        if year == self.end_year-1 or self.state[config][0] > 4: # only runs to 2100\n",
    "            done = True\n",
    "        \n",
    "        observation = self.state[self.model.configs[1]] / self.obs_scalars\n",
    "        \n",
    "        return observation, reward, done, {}\n",
    "        "
   ]
  },
  {
   "cell_type": "code",
   "execution_count": 51,
   "id": "7ffc5318",
   "metadata": {},
   "outputs": [],
   "source": [
    "env = Simulator(args, 2105)\n",
    "env.reset()\n",
    "for i in range(40):\n",
    "    env.step(env.action_space.sample())\n",
    "    if(env.state['default'][2] != env.state['intervention'][2]):\n",
    "        print(\"BLASPHEMY in year \", 2023+i)"
   ]
  },
  {
   "cell_type": "code",
   "execution_count": 54,
   "id": "9fd3b232",
   "metadata": {},
   "outputs": [
    {
     "data": {
      "text/plain": [
       "{'name': 'Tom',\n",
       " 'directory': 'Experiment_3/',\n",
       " 'max_carbon': 1,\n",
       " 'max_sulfur': 60,\n",
       " 'reward_mode': 'carbon_cost_GDP_reward',\n",
       " 'scenario': 'ssp245',\n",
       " 'start_year': 2023,\n",
       " 'end_year': 2105,\n",
       " 'algorithm': 'ppo',\n",
       " 'learning_rate': 0.024,\n",
       " 'gamma': 0.85,\n",
       " 'device': 'cpu',\n",
       " 'iterations': 100,\n",
       " 'n_steps': 4,\n",
       " 'verbose': 2,\n",
       " 'log_freq': 100}"
      ]
     },
     "execution_count": 54,
     "metadata": {},
     "output_type": "execute_result"
    }
   ],
   "source": [
    "args['name'] = 'Tom'\n",
    "args"
   ]
  },
  {
   "cell_type": "code",
   "execution_count": 55,
   "id": "77c3b6ac",
   "metadata": {},
   "outputs": [],
   "source": [
    "def setup_dirs(args):\n",
    "    save_path = os.path.join(\"outputs\", args['directory'])\n",
    "    dirs = ['plots', 'logs', 'saved_models']\n",
    "    for direc in dirs:\n",
    "        path = os.path.join(save_path, direc)\n",
    "        if not os.path.exists(path):\n",
    "            os.makedirs(path)\n",
    "    \n",
    "    # save args configs\n",
    "    with open(os.path.join(save_path, args['name']+'_config.txt'), 'w') as file:\n",
    "        json.dump(args, file, indent=2)\n",
    "    \n",
    "    return save_path\n",
    "\n",
    "def create_model(args, start_year, climate_model = model_reset()):\n",
    "    save_path = setup_dirs(args)\n",
    "    \n",
    "    env = Simulator(args, start_year)\n",
    "    \n",
    "    env.reset()\n",
    "    \n",
    "    model_builder = eval(args['algorithm'].upper()) # import from stable baselines\n",
    "    model = model_builder(\n",
    "        policy=\"MlpPolicy\",\n",
    "        env=env,\n",
    "        learning_rate = args['learning_rate'],\n",
    "        n_steps = args['n_steps'],\n",
    "        gamma= args['gamma'],\n",
    "        verbose=args['verbose'],\n",
    "        tensorboard_log=os.path.join(save_path, 'logs', args['name']),\n",
    "    )\n",
    "\n",
    "    model.set_logger(configure(\n",
    "        os.path.join(save_path, 'logs', args['name']),\n",
    "        [\"csv\", \"tensorboard\"]\n",
    "    ))\n",
    "    \n",
    "    return model, save_path\n",
    "\n",
    "\n",
    "VARS = ['Year', 'Temperature Anomaly (°C)', 'CO2 Emitted (GtC/yr)', 'Sulfur Emitted (MtS/yr)', 'CO2 Concentration (ppm)', 'ERF (W/m2)', 'Reward']\n",
    "\n",
    "def evaluate_model(model, args, start_year, test_iters=100, climate_model= model_reset()):\n",
    "    save_path = os.path.join(\"outputs\", args['directory'])\n",
    "    model_path = os.path.join(save_path, 'saved_models', args['name'])\n",
    "    model.save(model_path) # for easier reference\n",
    "    print(\"Model at \", model_path)\n",
    "    \n",
    "    env = Simulator(args, start_year)\n",
    "    \n",
    "        \n",
    "    obs = env.reset()\n",
    "    def_vals = []\n",
    "    intervention_vals = []\n",
    "    for i in range(test_iters):\n",
    "        action, _ = model.predict(obs, deterministic=False)\n",
    "        obs, reward, done, _ = env.step(action)\n",
    "        state = env.access_state()\n",
    "    \n",
    "        \n",
    "        # get values for default and for intervention for comparison\n",
    "        def_vals.append(np.concatenate((np.array([state['Year']]), state[env.model.configs[0]], np.array([reward]))))\n",
    "        intervention_vals.append(np.concatenate((np.array([state['Year']]), state[env.model.configs[1]], np.array([reward]))))\n",
    "        \n",
    "        if(i%25==0):\n",
    "            print(\"Iteration number: \", i)\n",
    "        \n",
    "        if done:\n",
    "            print(\"\\n\\nSimulation concluded at iteration: \", i)\n",
    "            print(env.t)\n",
    "            env.render()\n",
    "            env.reset()\n",
    "            break;\n",
    "    \n",
    "    if(env.close is not None):\n",
    "        env.close()\n",
    "        \n",
    "    return pd.DataFrame(data=intervention_vals, columns=VARS), pd.DataFrame(data=def_vals, columns=VARS)\n",
    " \n",
    "\n",
    "\n",
    "# Output useful plots\n",
    "def make_plots(start_year, aero_vals, def_vals, save_path, style = 'seaborn-darkgrid'):\n",
    "    plt.style.use(style)\n",
    "    print(type(eval(\"aero_vals\")))\n",
    "    data_path = os.path.join(save_path, 'logs', args['name'], str(start_year))\n",
    "    if not os.path.exists(data_path):\n",
    "        os.makedirs(data_path)\n",
    "    aero_vals.to_csv(os.path.join(data_path, \"intervention.csv\"))\n",
    "    def_vals.to_csv(os.path.join(data_path, \"default.csv\"))\n",
    "    \n",
    "    \n",
    "    plots_path = os.path.join(save_path, 'plots', args['name'], str(start_year))\n",
    "    if not os.path.exists(plots_path):\n",
    "        os.makedirs(plots_path)\n",
    "    \n",
    "    for col in aero_vals.columns[1:-1]:\n",
    "        plt.plot(aero_vals['Year'], aero_vals[col], label='geoengineering')\n",
    "        plt.plot(def_vals['Year'], def_vals[col], label='default')\n",
    "        plt.title(str(start_year) + \" start: \" + col[:col.index(\"(\")-1])\n",
    "        plt.ylabel(col)\n",
    "        plt.xlabel('Year')\n",
    "        plt.legend(loc='upper left')\n",
    "        try:\n",
    "            plt.savefig(os.path.join(plots_path, col[:col.index(\"(\")-1]))\n",
    "        except ValueError:\n",
    "            plt.savefig(os.path.join(plots_path, col))\n",
    "        plt.clf()\n",
    "    \n",
    "    # Plot Reward a little differently\n",
    "    col = aero_vals.columns[-1]\n",
    "    plt.plot(aero_vals['Year'], aero_vals[col])\n",
    "    plt.plot(def_vals['Year'], def_vals[col])\n",
    "    plt.ylabel(col)\n",
    "    plt.xlabel('Year')\n",
    "    plt.savefig(os.path.join(plots_path, col))\n",
    "    "
   ]
  },
  {
   "cell_type": "code",
   "execution_count": null,
   "id": "b1c2644f",
   "metadata": {},
   "outputs": [],
   "source": []
  },
  {
   "cell_type": "code",
   "execution_count": null,
   "id": "526e1115",
   "metadata": {},
   "outputs": [],
   "source": []
  },
  {
   "cell_type": "code",
   "execution_count": null,
   "id": "5fe89fbc",
   "metadata": {},
   "outputs": [],
   "source": []
  },
  {
   "cell_type": "markdown",
   "id": "79649be1",
   "metadata": {},
   "source": [
    "## Start in 2025"
   ]
  },
  {
   "cell_type": "code",
   "execution_count": null,
   "id": "8f81045c",
   "metadata": {},
   "outputs": [],
   "source": [
    "# Output useful plots\n",
    "def make_plots(start_year, aero_vals, def_vals, save_path:\n",
    "    \n",
    "    plots_path = os.path.join(save_path, 'plots', args['name'], str(start_year))\n",
    "    if not os.path.exists(plots_path):\n",
    "        os.makedirs(plots_path)\n",
    "    \n",
    "    for col in aero_vals.columns[1:-1]:\n",
    "        plt.plot(aero_vals['Year'], aero_vals[col], label='geoengineering')\n",
    "        plt.plot(def_vals['Year'], def_vals[col], label='default')\n",
    "        plt.title(str(start_year) + \" start: \" + col[:col.index(\"(\")-1])\n",
    "        plt.ylabel(col)\n",
    "        plt.xlabel('Year')\n",
    "        plt.legend(loc='upper left')\n",
    "        try:\n",
    "            plt.savefig(os.path.join(plots_path, col[:col.index(\"(\")-1]))\n",
    "        except ValueError:\n",
    "            plt.savefig(os.path.join(plots_path, col))\n",
    "        plt.clf()\n",
    "    "
   ]
  },
  {
   "cell_type": "code",
   "execution_count": null,
   "id": "e6e7d2fe",
   "metadata": {},
   "outputs": [],
   "source": []
  },
  {
   "cell_type": "code",
   "execution_count": 56,
   "id": "4b2f2a96",
   "metadata": {
    "scrolled": true
   },
   "outputs": [
    {
     "name": "stdout",
     "output_type": "stream",
     "text": [
      "Using cpu device\n",
      "Wrapping the env with a `Monitor` wrapper\n",
      "Wrapping the env in a DummyVecEnv.\n"
     ]
    },
    {
     "name": "stderr",
     "output_type": "stream",
     "text": [
      "/Users/samart/opt/anaconda3/envs/MLforEE/lib/python3.10/site-packages/stable_baselines3/ppo/ppo.py:151: UserWarning: You have specified a mini-batch size of 64, but because the `RolloutBuffer` is of size `n_steps * n_envs = 4`, after every 0 untruncated mini-batches, there will be a truncated mini-batch of size 4\n",
      "We recommend using a `batch_size` that is a factor of `n_steps * n_envs`.\n",
      "Info: (n_steps=4 and n_envs=1)\n",
      "  warnings.warn(\n"
     ]
    }
   ],
   "source": [
    "model, save_path = create_model(args, 2025)"
   ]
  },
  {
   "cell_type": "code",
   "execution_count": 57,
   "id": "b2889dc4",
   "metadata": {},
   "outputs": [
    {
     "data": {
      "text/plain": [
       "{'name': 'Tom',\n",
       " 'directory': 'Experiment_3/',\n",
       " 'max_carbon': 1,\n",
       " 'max_sulfur': 60,\n",
       " 'reward_mode': 'carbon_cost_GDP_reward',\n",
       " 'scenario': 'ssp245',\n",
       " 'start_year': 2023,\n",
       " 'end_year': 2105,\n",
       " 'algorithm': 'ppo',\n",
       " 'learning_rate': 0.024,\n",
       " 'gamma': 0.85,\n",
       " 'device': 'cpu',\n",
       " 'iterations': 100,\n",
       " 'n_steps': 4,\n",
       " 'verbose': 2,\n",
       " 'log_freq': 100}"
      ]
     },
     "execution_count": 57,
     "metadata": {},
     "output_type": "execute_result"
    }
   ],
   "source": [
    "args"
   ]
  },
  {
   "cell_type": "code",
   "execution_count": 58,
   "id": "f5a8c2a3",
   "metadata": {},
   "outputs": [
    {
     "data": {
      "text/plain": [
       "<stable_baselines3.common.vec_env.dummy_vec_env.DummyVecEnv at 0x1ce487850>"
      ]
     },
     "execution_count": 58,
     "metadata": {},
     "output_type": "execute_result"
    }
   ],
   "source": [
    "# use model from Experiment 2, saved here\n",
    "load_path = 'outputs/Experiment_3/saved_models/John'\n",
    "model = PPO.load(load_path, model.env)\n",
    "model.env"
   ]
  },
  {
   "cell_type": "code",
   "execution_count": 59,
   "id": "bd695b63",
   "metadata": {},
   "outputs": [
    {
     "name": "stdout",
     "output_type": "stream",
     "text": [
      "Model at  outputs/Experiment_3/saved_models/Tom\n",
      "Iteration number:  0\n",
      "Iteration number:  25\n",
      "Iteration number:  50\n",
      "Iteration number:  75\n",
      "\n",
      "\n",
      "Simulation concluded at iteration:  81\n",
      "2105\n",
      "Current Year: 2104\n",
      "Without intervention:\n",
      "    Temperature anomaly: 3.4366579055786133ºC\n",
      "    CO2 emissions: 9.681204795837402 GtC\n",
      "    Sulfur emissions: 30.246562957763672 MtS\n",
      "    CO2 concentration: 606.2730712890625 ppm\n",
      "    Radiative forcing: 5.42453145980835 W/m2\n",
      "\n",
      "With intervention:\n",
      "    Temperature anomaly: 1.9873497486114502ºC\n",
      "    CO2 emissions: -4.512072563171387 GtC\n",
      "    Sulfur emissions: 90.24656677246094 MtS\n",
      "    CO2 concentration: 423.979248046875 ppm\n",
      "    Radiative forcing: 2.834717273712158 W/m2\n"
     ]
    }
   ],
   "source": [
    "aerosol, default = evaluate_model(model, args, 2025)"
   ]
  },
  {
   "cell_type": "code",
   "execution_count": 60,
   "id": "35437ace",
   "metadata": {},
   "outputs": [
    {
     "name": "stdout",
     "output_type": "stream",
     "text": [
      "<class 'pandas.core.frame.DataFrame'>\n"
     ]
    },
    {
     "data": {
      "image/png": "[encoded data removed]",
      "text/plain": [
       "<Figure size 640x480 with 1 Axes>"
      ]
     },
     "metadata": {},
     "output_type": "display_data"
    }
   ],
   "source": [
    "make_plots(2025, aerosol, default, save_path)"
   ]
  },
  {
   "cell_type": "markdown",
   "id": "3dc57438",
   "metadata": {},
   "source": [
    "#### Starts in 2035"
   ]
  },
  {
   "cell_type": "code",
   "execution_count": 61,
   "id": "9fade7f2",
   "metadata": {},
   "outputs": [
    {
     "name": "stdout",
     "output_type": "stream",
     "text": [
      "Model at  outputs/Experiment_3/saved_models/Tom\n",
      "Iteration number:  0\n",
      "Iteration number:  25\n",
      "Iteration number:  50\n",
      "Iteration number:  75\n",
      "\n",
      "\n",
      "Simulation concluded at iteration:  81\n",
      "2105\n",
      "Current Year: 2104\n",
      "Without intervention:\n",
      "    Temperature anomaly: 3.4366579055786133ºC\n",
      "    CO2 emissions: 9.681204795837402 GtC\n",
      "    Sulfur emissions: 30.246562957763672 MtS\n",
      "    CO2 concentration: 606.2730712890625 ppm\n",
      "    Radiative forcing: 5.42453145980835 W/m2\n",
      "\n",
      "With intervention:\n",
      "    Temperature anomaly: 1.9937900304794312ºC\n",
      "    CO2 emissions: -4.512072563171387 GtC\n",
      "    Sulfur emissions: 90.24656677246094 MtS\n",
      "    CO2 concentration: 424.22515869140625 ppm\n",
      "    Radiative forcing: 2.8374099731445312 W/m2\n"
     ]
    }
   ],
   "source": [
    "aerosol2, default2 = evaluate_model(model, args, 2035)"
   ]
  },
  {
   "cell_type": "code",
   "execution_count": 62,
   "id": "1731052f",
   "metadata": {},
   "outputs": [
    {
     "name": "stdout",
     "output_type": "stream",
     "text": [
      "<class 'pandas.core.frame.DataFrame'>\n"
     ]
    },
    {
     "data": {
      "image/png": "[encoded data removed]",
      "text/plain": [
       "<Figure size 640x480 with 1 Axes>"
      ]
     },
     "metadata": {},
     "output_type": "display_data"
    }
   ],
   "source": [
    "make_plots(2035, aerosol2, default2, save_path)"
   ]
  },
  {
   "cell_type": "markdown",
   "id": "8ed82320",
   "metadata": {},
   "source": [
    "#### Starts in 2050"
   ]
  },
  {
   "cell_type": "code",
   "execution_count": 63,
   "id": "28c25d75",
   "metadata": {},
   "outputs": [
    {
     "name": "stdout",
     "output_type": "stream",
     "text": [
      "Model at  outputs/Experiment_3/saved_models/Tom\n",
      "Iteration number:  0\n",
      "Iteration number:  25\n",
      "Iteration number:  50\n",
      "Iteration number:  75\n",
      "\n",
      "\n",
      "Simulation concluded at iteration:  81\n",
      "2105\n",
      "Current Year: 2104\n",
      "Without intervention:\n",
      "    Temperature anomaly: 3.4366579055786133ºC\n",
      "    CO2 emissions: 9.681204795837402 GtC\n",
      "    Sulfur emissions: 30.246562957763672 MtS\n",
      "    CO2 concentration: 606.2730712890625 ppm\n",
      "    Radiative forcing: 5.42453145980835 W/m2\n",
      "\n",
      "With intervention:\n",
      "    Temperature anomaly: 2.0375988483428955ºC\n",
      "    CO2 emissions: -4.512072563171387 GtC\n",
      "    Sulfur emissions: 90.24656677246094 MtS\n",
      "    CO2 concentration: 429.005615234375 ppm\n",
      "    Radiative forcing: 2.897770881652832 W/m2\n"
     ]
    }
   ],
   "source": [
    "aerosol3, default3 = evaluate_model(model, args, 2050)"
   ]
  },
  {
   "cell_type": "code",
   "execution_count": 64,
   "id": "6e4acd2f",
   "metadata": {},
   "outputs": [
    {
     "name": "stdout",
     "output_type": "stream",
     "text": [
      "<class 'pandas.core.frame.DataFrame'>\n"
     ]
    },
    {
     "data": {
      "image/png": "[encoded data removed]",
      "text/plain": [
       "<Figure size 640x480 with 1 Axes>"
      ]
     },
     "metadata": {},
     "output_type": "display_data"
    }
   ],
   "source": [
    "make_plots(2050, aerosol3, default3, save_path)"
   ]
  },
  {
   "cell_type": "markdown",
   "id": "665fe45f",
   "metadata": {},
   "source": [
    "#### Starts in 2065"
   ]
  },
  {
   "cell_type": "code",
   "execution_count": 68,
   "id": "0456952b",
   "metadata": {},
   "outputs": [
    {
     "name": "stdout",
     "output_type": "stream",
     "text": [
      "Model at  outputs/Experiment_3/saved_models/Tom\n",
      "Iteration number:  0\n",
      "Iteration number:  25\n",
      "Iteration number:  50\n",
      "Iteration number:  75\n",
      "\n",
      "\n",
      "Simulation concluded at iteration:  81\n",
      "2105\n",
      "Current Year: 2104\n",
      "Without intervention:\n",
      "    Temperature anomaly: 3.4366579055786133ºC\n",
      "    CO2 emissions: 9.681204795837402 GtC\n",
      "    Sulfur emissions: 30.246562957763672 MtS\n",
      "    CO2 concentration: 606.2730712890625 ppm\n",
      "    Radiative forcing: 5.42453145980835 W/m2\n",
      "\n",
      "With intervention:\n",
      "    Temperature anomaly: 2.0163650512695312ºC\n",
      "    CO2 emissions: -4.512072563171387 GtC\n",
      "    Sulfur emissions: 90.24656677246094 MtS\n",
      "    CO2 concentration: 425.05224609375 ppm\n",
      "    Radiative forcing: 2.845707416534424 W/m2\n"
     ]
    }
   ],
   "source": [
    "aerosol4, default4 = evaluate_model(model, args, 2065)"
   ]
  },
  {
   "cell_type": "code",
   "execution_count": 69,
   "id": "ff6bffe4",
   "metadata": {},
   "outputs": [
    {
     "name": "stdout",
     "output_type": "stream",
     "text": [
      "<class 'pandas.core.frame.DataFrame'>\n"
     ]
    },
    {
     "data": {
      "image/png": "[encoded data removed]",
      "text/plain": [
       "<Figure size 640x480 with 1 Axes>"
      ]
     },
     "metadata": {},
     "output_type": "display_data"
    }
   ],
   "source": [
    "\n",
    "make_plots(2065, aerosol4, default4, save_path)"
   ]
  },
  {
   "cell_type": "code",
   "execution_count": 93,
   "id": "dcfec647",
   "metadata": {},
   "outputs": [
    {
     "data": {
      "text/plain": [
       "<Figure size 1600x900 with 0 Axes>"
      ]
     },
     "metadata": {},
     "output_type": "display_data"
    }
   ],
   "source": [
    "plt.style.use('seaborn-darkgrid')\n",
    "plt.rcParams[\"figure.figsize\"] = (16,9)\n",
    "aero_vals, def_vals, start_year = aerosol4, default4, 2065\n",
    "plots_path = os.path.join(save_path, 'plots', args['name'], str(start_year))\n",
    "if not os.path.exists(plots_path):\n",
    "    os.makedirs(plots_path)\n",
    "\n",
    "for col in aero_vals.columns[1:-1]:\n",
    "    plt.plot(aero_vals['Year'], aero_vals[col], label='geoengineering', color='green')\n",
    "    plt.plot(def_vals['Year'], def_vals[col], label='default', color='purple')\n",
    "    plt.title(str(start_year) + \" start: \" + col[:col.index(\"(\")-1])\n",
    "    plt.ylabel(col)\n",
    "    plt.xlabel('Year')\n",
    "    plt.legend(loc='upper left')\n",
    "    plt.savefig(os.path.join(plots_path, col[:col.index(\"(\")-1]))\n",
    "\n",
    "    plt.clf()"
   ]
  },
  {
   "cell_type": "code",
   "execution_count": 97,
   "id": "ea074ffe",
   "metadata": {},
   "outputs": [],
   "source": [
    "plt.style.use('classic')"
   ]
  },
  {
   "cell_type": "code",
   "execution_count": 76,
   "id": "a6469b8c",
   "metadata": {},
   "outputs": [
    {
     "data": {
      "text/plain": [
       "['Solarize_Light2',\n",
       " '_classic_test_patch',\n",
       " '_mpl-gallery',\n",
       " '_mpl-gallery-nogrid',\n",
       " 'bmh',\n",
       " 'classic',\n",
       " 'dark_background',\n",
       " 'fast',\n",
       " 'fivethirtyeight',\n",
       " 'ggplot',\n",
       " 'grayscale',\n",
       " 'seaborn',\n",
       " 'seaborn-bright',\n",
       " 'seaborn-colorblind',\n",
       " 'seaborn-dark',\n",
       " 'seaborn-dark-palette',\n",
       " 'seaborn-darkgrid',\n",
       " 'seaborn-deep',\n",
       " 'seaborn-muted',\n",
       " 'seaborn-notebook',\n",
       " 'seaborn-paper',\n",
       " 'seaborn-pastel',\n",
       " 'seaborn-poster',\n",
       " 'seaborn-talk',\n",
       " 'seaborn-ticks',\n",
       " 'seaborn-white',\n",
       " 'seaborn-whitegrid',\n",
       " 'tableau-colorblind10']"
      ]
     },
     "execution_count": 76,
     "metadata": {},
     "output_type": "execute_result"
    }
   ],
   "source": [
    "import matplotlib\n",
    "matplotlib.style.available"
   ]
  },
  {
   "cell_type": "markdown",
   "id": "46c5b655",
   "metadata": {},
   "source": [
    "# Analyze data"
   ]
  },
  {
   "cell_type": "code",
   "execution_count": 1,
   "id": "ec016123",
   "metadata": {},
   "outputs": [],
   "source": [
    "import os\n",
    "import pandas as pd\n",
    "import matplotlib as mpl\n",
    "import matplotlib.pyplot as plt"
   ]
  },
  {
   "cell_type": "code",
   "execution_count": 6,
   "id": "cca8b566",
   "metadata": {},
   "outputs": [],
   "source": [
    "path = 'outputs/Experiment_3/logs/Tom/'\n",
    "aero1, def1 = pd.read_csv(os.path.join(path, str(2025), 'intervention.csv')).drop(['Unnamed: 0'], axis=1), pd.read_csv(os.path.join(path, str(2025), 'default.csv')).drop(['Unnamed: 0'], axis=1)\n",
    "aero2, def2 = pd.read_csv(os.path.join(path, str(2035), 'intervention.csv')).drop(['Unnamed: 0'], axis=1), pd.read_csv(os.path.join(path, str(2035), 'default.csv')).drop(['Unnamed: 0'], axis=1)\n",
    "aero3, def3 = pd.read_csv(os.path.join(path, str(2050), 'intervention.csv')).drop(['Unnamed: 0'], axis=1), pd.read_csv(os.path.join(path, str(2050), 'default.csv')).drop(['Unnamed: 0'], axis=1)\n",
    "aero4, def4 = pd.read_csv(os.path.join(path, str(2065), 'intervention.csv')).drop(['Unnamed: 0'], axis=1), pd.read_csv(os.path.join(path, str(2065), 'default.csv')).drop(['Unnamed: 0'], axis=1)\n",
    "\n"
   ]
  },
  {
   "cell_type": "code",
   "execution_count": 21,
   "id": "ac7cb3db",
   "metadata": {},
   "outputs": [
    {
     "data": {
      "text/plain": [
       "Index(['Year', 'Temperature Anomaly (°C)', 'CO2 Emitted (GtC/yr)',\n",
       "       'Sulfur Emitted (MtS/yr)', 'CO2 Concentration (ppm)', 'ERF (W/m2)',\n",
       "       'Reward'],\n",
       "      dtype='object')"
      ]
     },
     "execution_count": 21,
     "metadata": {},
     "output_type": "execute_result"
    }
   ],
   "source": [
    "cols"
   ]
  },
  {
   "cell_type": "code",
   "execution_count": 43,
   "id": "956ba52d",
   "metadata": {},
   "outputs": [
    {
     "data": {
      "text/plain": [
       "27"
      ]
     },
     "execution_count": 43,
     "metadata": {},
     "output_type": "execute_result"
    }
   ],
   "source": [
    "ind = aero1[aero1['Year']==2050.0].index[0]\n",
    "ind"
   ]
  },
  {
   "cell_type": "code",
   "execution_count": 48,
   "id": "cbcc3136",
   "metadata": {},
   "outputs": [
    {
     "name": "stdout",
     "output_type": "stream",
     "text": [
      "11.696695327758787 & 11.696695327758787 & 13.696695327758787 & 11.696695327758787\n"
     ]
    }
   ],
   "source": [
    "col = 'CO2 Emitted (GtC/yr)'\n",
    "data = [str(aero1[col][ind]), str(aero2[col][ind]), str(aero3[col][ind]), str(aero4[col][ind])]\n",
    "\n",
    "\n",
    "b = \" & \".join(data)\n",
    "print(b)"
   ]
  },
  {
   "cell_type": "code",
   "execution_count": null,
   "id": "8110c829",
   "metadata": {},
   "outputs": [],
   "source": []
  },
  {
   "cell_type": "code",
   "execution_count": null,
   "id": "a5d3ebf9",
   "metadata": {},
   "outputs": [],
   "source": []
  }
 ],
 "metadata": {
  "kernelspec": {
   "display_name": "MLforEE",
   "language": "python",
   "name": "mlforee"
  },
  "language_info": {
   "codemirror_mode": {
    "name": "ipython",
    "version": 3
   },
   "file_extension": ".py",
   "mimetype": "text/x-python",
   "name": "python",
   "nbconvert_exporter": "python",
   "pygments_lexer": "ipython3",
   "version": "3.10.8"
  }
 },
 "nbformat": 4,
 "nbformat_minor": 5
}
